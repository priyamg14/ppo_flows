{
 "cells": [
  {
   "cell_type": "code",
   "execution_count": 13,
   "metadata": {},
   "outputs": [
    {
     "name": "stdout",
     "output_type": "stream",
     "text": [
      "/bin/bash: which: line 1: syntax error: unexpected end of file\n",
      "/bin/bash: error importing function definition for `which'\n",
      "/bin/bash: module: line 1: syntax error: unexpected end of file\n",
      "/bin/bash: error importing function definition for `module'\n",
      "/bin/bash: scl: line 1: syntax error: unexpected end of file\n",
      "/bin/bash: error importing function definition for `scl'\n",
      "/bin/bash: ml: line 1: syntax error: unexpected end of file\n",
      "/bin/bash: error importing function definition for `ml'\n",
      "/rds/general/user/pg221/home/anaconda3/envs/ppo2/lib/python3.9/site-packages/hydra/_internal/hydra.py:119: UserWarning: Future Hydra versions will no longer change working directory at job runtime by default.\n",
      "See https://hydra.cc/docs/1.2/upgrades/1.1_to_1.2/changes_to_job_working_dir/ for more information.\n",
      "  ret = run_job(\n",
      "Error executing job with overrides: ['env.env_name=mixing', 'collector.max_episode_length=100', 'logger.project_name=Mixing_PPO_test', 'logger.exp_name=Mixing_PPO_test']\n",
      "Traceback (most recent call last):\n",
      "  File \"/rds/general/user/pg221/home/PhD_projects2/rl/sota-implementations/ppo/ppo_beacon.py\", line 43, in main\n",
      "    actor, critic = make_ppo_models(cfg.env.env_name, cfg)\n",
      "  File \"/rds/general/user/pg221/home/PhD_projects2/rl/sota-implementations/ppo/utils_beacon.py\", line 183, in make_ppo_models\n",
      "    proof_environment = make_parallel_env(env_name, 1, cfg, device=\"cpu\")\n",
      "  File \"/rds/general/user/pg221/home/PhD_projects2/rl/sota-implementations/ppo/utils_beacon.py\", line 72, in make_parallel_env\n",
      "    EnvCreator(lambda: make_base_env(env_name)),\n",
      "  File \"/rds/general/user/pg221/home/anaconda3/envs/ppo2/lib/python3.9/site-packages/torchrl/envs/env_creator.py\", line 94, in __init__\n",
      "    self.init_()\n",
      "  File \"/rds/general/user/pg221/home/anaconda3/envs/ppo2/lib/python3.9/site-packages/torchrl/envs/env_creator.py\", line 124, in init_\n",
      "    shadow_env = self.create_env_fn(**self.create_env_kwargs)\n",
      "  File \"/rds/general/user/pg221/home/anaconda3/envs/ppo2/lib/python3.9/site-packages/torchrl/data/utils.py\", line 254, in __call__\n",
      "    return self.fn(*args, **kwargs)\n",
      "  File \"/rds/general/user/pg221/home/PhD_projects2/rl/sota-implementations/ppo/utils_beacon.py\", line 72, in <lambda>\n",
      "    EnvCreator(lambda: make_base_env(env_name)),\n",
      "  File \"/rds/general/user/pg221/home/PhD_projects2/rl/sota-implementations/ppo/utils_beacon.py\", line 59, in make_base_env\n",
      "    env = obj()\n",
      "TypeError: 'module' object is not callable\n",
      "\n",
      "Set the environment variable HYDRA_FULL_ERROR=1 for a complete stack trace.\n"
     ]
    }
   ],
   "source": [
    "!(python ppo_beacon.py env.env_name=mixing collector.max_episode_length=100 \\\n",
    "  logger.project_name=Mixing_PPO_test \\\n",
    "  logger.exp_name=Mixing_PPO_test)"
   ]
  },
  {
   "cell_type": "code",
   "execution_count": null,
   "metadata": {},
   "outputs": [
    {
     "name": "stdout",
     "output_type": "stream",
     "text": [
      "/bin/bash: which: line 1: syntax error: unexpected end of file\n",
      "/bin/bash: error importing function definition for `which'\n",
      "/bin/bash: module: line 1: syntax error: unexpected end of file\n",
      "/bin/bash: error importing function definition for `module'\n",
      "/bin/bash: scl: line 1: syntax error: unexpected end of file\n",
      "/bin/bash: error importing function definition for `scl'\n",
      "/bin/bash: ml: line 1: syntax error: unexpected end of file\n",
      "/bin/bash: error importing function definition for `ml'\n",
      "/rds/general/user/pg221/home/anaconda3/envs/ppo2/lib/python3.9/site-packages/hydra/_internal/hydra.py:119: UserWarning: Future Hydra versions will no longer change working directory at job runtime by default.\n",
      "See https://hydra.cc/docs/1.2/upgrades/1.1_to_1.2/changes_to_job_working_dir/ for more information.\n",
      "  ret = run_job(\n",
      "/rds/general/user/pg221/home/anaconda3/envs/ppo2/lib/python3.9/site-packages/gym/spaces/box.py:127: UserWarning: \u001b[33mWARN: Box bound precision lowered by casting to float32\u001b[0m\n",
      "  logger.warn(f\"Box bound precision lowered by casting to {self.dtype}\")\n",
      "input_shape:  6\n",
      "/rds/general/user/pg221/home/anaconda3/envs/ppo2/lib/python3.9/site-packages/torchrl/collectors/collectors.py:693: UserWarning: total_frames (400000000) is not exactly divisible by frames_per_batch (4096).This means 3072 additional frames will be collected.To silence this message, set the environment variable RL_WARNINGS to False.\n",
      "  warnings.warn(\n",
      "/rds/general/user/pg221/home/anaconda3/envs/ppo2/lib/python3.9/site-packages/torchrl/collectors/collectors.py:725: UserWarning: frames_per_batch (4096) is not exactly divisible by the number of batched environments (5),  this results in more frames_per_batch per iteration that requested (4100).To silence this message, set the environment variable RL_WARNINGS to False.\n",
      "  warnings.warn(\n",
      "\u001b[34m\u001b[1mwandb\u001b[0m: Using wandb-core as the SDK backend. Please refer to https://wandb.me/wandb-core for more information.\n",
      "\u001b[34m\u001b[1mwandb\u001b[0m: Currently logged in as: \u001b[33mpriyam-gupta14\u001b[0m (\u001b[33mpriyam_gupta\u001b[0m). Use \u001b[1m`wandb login --relogin`\u001b[0m to force relogin\n",
      "\u001b[34m\u001b[1mwandb\u001b[0m: \u001b[33mWARNING\u001b[0m Path ppo/wandb/ wasn't writable, using system temp directory.\n",
      "\u001b[34m\u001b[1mwandb\u001b[0m: Tracking run with wandb version 0.18.5\n",
      "\u001b[34m\u001b[1mwandb\u001b[0m: Run data is saved locally in \u001b[35m\u001b[1m/var/tmp/pbs.208112.pbs/wandb/run-20241105_125508-d57ll0yp\u001b[0m\n",
      "\u001b[34m\u001b[1mwandb\u001b[0m: Run \u001b[1m`wandb offline`\u001b[0m to turn off syncing.\n",
      "\u001b[34m\u001b[1mwandb\u001b[0m: Syncing run \u001b[33mPPO_Lorenz_PPO_test_numenvs5_3_lorenz_ead1e2ef_24_11_05-12_55_00\u001b[0m\n",
      "\u001b[34m\u001b[1mwandb\u001b[0m: ⭐️ View project at \u001b[34m\u001b[4mhttps://wandb.ai/priyam_gupta/Lorenz_PPO_test\u001b[0m\n",
      "\u001b[34m\u001b[1mwandb\u001b[0m: 🚀 View run at \u001b[34m\u001b[4mhttps://wandb.ai/priyam_gupta/Lorenz_PPO_test/runs/d57ll0yp\u001b[0m\n",
      "/rds/general/user/pg221/home/anaconda3/envs/ppo2/lib/python3.9/site-packages/gym/spaces/box.py:127: UserWarning: \u001b[33mWARN: Box bound precision lowered by casting to float32\u001b[0m\n",
      "  logger.warn(f\"Box bound precision lowered by casting to {self.dtype}\")\n",
      "  6%|█▍                     | 24206400/400000000 [3:19:31<41:55:13, 2490.12it/s]"
     ]
    }
   ],
   "source": [
    "!(python ppo_beacon.py env.env_name=lorenz \\\n",
    "       collector.max_episode_length=400 logger.test_interval=200000 env.num_envs=5 \\\n",
    "       logger.project_name=Lorenz_PPO_test \\\n",
    "       logger.exp_name=Lorenz_PPO_test_numenvs5_3)"
   ]
  },
  {
   "cell_type": "code",
   "execution_count": 5,
   "metadata": {},
   "outputs": [
    {
     "name": "stdout",
     "output_type": "stream",
     "text": [
      "/bin/bash: which: line 1: syntax error: unexpected end of file\n",
      "/bin/bash: error importing function definition for `which'\n",
      "/bin/bash: module: line 1: syntax error: unexpected end of file\n",
      "/bin/bash: error importing function definition for `module'\n",
      "/bin/bash: scl: line 1: syntax error: unexpected end of file\n",
      "/bin/bash: error importing function definition for `scl'\n",
      "/bin/bash: ml: line 1: syntax error: unexpected end of file\n",
      "/bin/bash: error importing function definition for `ml'\n"
     ]
    }
   ],
   "source": [
    "# !(nvidia-smi)\n",
    "!(lsof /dev/nvidia* | awk '{print $2}' | xargs -I {} kill {})\n"
   ]
  },
  {
   "cell_type": "code",
   "execution_count": null,
   "metadata": {},
   "outputs": [],
   "source": []
  },
  {
   "cell_type": "code",
   "execution_count": null,
   "metadata": {},
   "outputs": [],
   "source": []
  }
 ],
 "metadata": {
  "kernelspec": {
   "display_name": "Python [conda env:ppo2]",
   "language": "python",
   "name": "conda-env-ppo2-py"
  },
  "language_info": {
   "codemirror_mode": {
    "name": "ipython",
    "version": 3
   },
   "file_extension": ".py",
   "mimetype": "text/x-python",
   "name": "python",
   "nbconvert_exporter": "python",
   "pygments_lexer": "ipython3",
   "version": "3.9.20"
  }
 },
 "nbformat": 4,
 "nbformat_minor": 2
}
